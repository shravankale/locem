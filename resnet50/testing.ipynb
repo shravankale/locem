{
 "cells": [
  {
   "cell_type": "code",
   "execution_count": 1,
   "metadata": {},
   "outputs": [],
   "source": [
    "import pandas as pd\n",
    "import numpy as np\n",
    "import os, fnmatch, re, cv2, random,sys, pickle\n",
    "import torch\n",
    "import torch.nn as nn\n",
    "#import imgaug as ia\n",
    "#import imageio\n",
    "%matplotlib inline  \n",
    "import matplotlib.pyplot as plt\n",
    "import xml.etree.ElementTree as ET\n",
    "from torch.utils import data\n",
    "from torchvision import transforms\n",
    "sys.path.append('..')\n",
    "\n",
    "root_locEm = \"../\"\n",
    "root_datasets = \"../../../datasets/\"\n",
    "root_ImageNetVidsDevkit = root_datasets+\"ImageNetVids/imageNetVidsDevkit.data/\"\n",
    "root_ImageNetVids = root_datasets+\"ImageNetVids/imageNetVids.data/\"\n",
    "path_to_frames= root_ImageNetVids+\"Data/VID/train/\"\n",
    "path_to_val_frames= root_ImageNetVids+\"Data/VID/val/\"\n",
    "path_to_annotations= root_ImageNetVids+\"Annotations/VID/train/\"\n",
    "\n",
    "network_dim = 224"
   ]
  },
  {
   "cell_type": "code",
   "execution_count": 2,
   "metadata": {},
   "outputs": [],
   "source": [
    "def showTorchTensorImg(img):\n",
    "    return plt.imshow(img.permute(1,2,0).numpy())"
   ]
  },
  {
   "cell_type": "code",
   "execution_count": 3,
   "metadata": {},
   "outputs": [
    {
     "name": "stdout",
     "output_type": "stream",
     "text": [
      "USING v101 of generator\n",
      "Invoking augmentor\n",
      "train Length of the dataset to traverse 15806\n",
      "train Length of the dataset to traverse 15806\n"
     ]
    }
   ],
   "source": [
    "from torchvision import transforms as trfms\n",
    "from torch.utils.data import DataLoader\n",
    "from genINV_R50_Eval_v2 import ImageNetVID\n",
    "train_dataset = \"../../data/metadata_imgnet_vid_train_n2.pkl\"\n",
    "val_dataset = \"../../data/metadata_imgnet_vid_val_n2.pkl\"\n",
    "root_datasets = \"../../../../datasets/\"\n",
    "\n",
    "split = 'train'\n",
    "if split == 'train':\n",
    "    dataset_path = train_dataset\n",
    "else:\n",
    "    dataset_path = val_dataset\n",
    "gen_train = ImageNetVID(root_datasets,dataset_path,split)\n",
    "dloader = DataLoader(gen_train,batch_size=1,shuffle=True)\n",
    "#Train len = 15806\n",
    "#Val len = 2618"
   ]
  },
  {
   "cell_type": "code",
   "execution_count": 4,
   "metadata": {},
   "outputs": [
    {
     "name": "stdout",
     "output_type": "stream",
     "text": [
      "train Length of the dataset to traverse 15806\n",
      "torch.Size([1, 3, 224, 224])\n",
      "torch.Size([1])\n",
      "torch.Size([1])\n"
     ]
    }
   ],
   "source": [
    "for i, (images, target,ids) in enumerate(dloader):\n",
    "    \n",
    "    print(images.size())\n",
    "    print(target.size())\n",
    "    print(ids.size())\n",
    "    break"
   ]
  },
  {
   "cell_type": "code",
   "execution_count": 5,
   "metadata": {},
   "outputs": [],
   "source": [
    "g = torch.rand((6,8))"
   ]
  },
  {
   "cell_type": "code",
   "execution_count": 6,
   "metadata": {},
   "outputs": [
    {
     "data": {
      "text/plain": [
       "torch.float32"
      ]
     },
     "execution_count": 6,
     "metadata": {},
     "output_type": "execute_result"
    }
   ],
   "source": [
    "g.dtype"
   ]
  },
  {
   "cell_type": "code",
   "execution_count": 16,
   "metadata": {},
   "outputs": [],
   "source": [
    "a = np.random.rand(256,)"
   ]
  },
  {
   "cell_type": "code",
   "execution_count": 17,
   "metadata": {},
   "outputs": [],
   "source": [
    "la = [a,a,a,a]"
   ]
  },
  {
   "cell_type": "code",
   "execution_count": 18,
   "metadata": {},
   "outputs": [
    {
     "data": {
      "text/plain": [
       "4"
      ]
     },
     "execution_count": 18,
     "metadata": {},
     "output_type": "execute_result"
    }
   ],
   "source": [
    "len(la)"
   ]
  },
  {
   "cell_type": "code",
   "execution_count": 19,
   "metadata": {},
   "outputs": [
    {
     "data": {
      "text/plain": [
       "(256,)"
      ]
     },
     "execution_count": 19,
     "metadata": {},
     "output_type": "execute_result"
    }
   ],
   "source": [
    "a.shape"
   ]
  },
  {
   "cell_type": "code",
   "execution_count": 20,
   "metadata": {},
   "outputs": [
    {
     "data": {
      "text/plain": [
       "(4, 256)"
      ]
     },
     "execution_count": 20,
     "metadata": {},
     "output_type": "execute_result"
    }
   ],
   "source": [
    "nla = np.array(la)\n",
    "nla.shape"
   ]
  },
  {
   "cell_type": "code",
   "execution_count": 21,
   "metadata": {},
   "outputs": [
    {
     "data": {
      "text/plain": [
       "(1024,)"
      ]
     },
     "execution_count": 21,
     "metadata": {},
     "output_type": "execute_result"
    }
   ],
   "source": [
    "nla2 = np.concatenate(la,axis=0)\n",
    "nla2.shape"
   ]
  },
  {
   "cell_type": "code",
   "execution_count": 22,
   "metadata": {},
   "outputs": [
    {
     "data": {
      "text/plain": [
       "1024"
      ]
     },
     "execution_count": 22,
     "metadata": {},
     "output_type": "execute_result"
    }
   ],
   "source": [
    "256*4"
   ]
  },
  {
   "cell_type": "code",
   "execution_count": 23,
   "metadata": {},
   "outputs": [
    {
     "data": {
      "text/plain": [
       "0.5405443367493328"
      ]
     },
     "execution_count": 23,
     "metadata": {},
     "output_type": "execute_result"
    }
   ],
   "source": [
    "nla2[4]"
   ]
  },
  {
   "cell_type": "code",
   "execution_count": 24,
   "metadata": {},
   "outputs": [],
   "source": [
    "b = np.random.rand(3,6)"
   ]
  },
  {
   "cell_type": "code",
   "execution_count": 27,
   "metadata": {},
   "outputs": [
    {
     "data": {
      "text/plain": [
       "array([0.97041154, 0.16284473, 0.58507764, 0.615784  , 0.99938516,\n",
       "       0.08348032])"
      ]
     },
     "execution_count": 27,
     "metadata": {},
     "output_type": "execute_result"
    }
   ],
   "source": [
    "b[0]"
   ]
  },
  {
   "cell_type": "code",
   "execution_count": null,
   "metadata": {},
   "outputs": [],
   "source": []
  }
 ],
 "metadata": {
  "kernelspec": {
   "display_name": "Python 3",
   "language": "python",
   "name": "python3"
  },
  "language_info": {
   "codemirror_mode": {
    "name": "ipython",
    "version": 3
   },
   "file_extension": ".py",
   "mimetype": "text/x-python",
   "name": "python",
   "nbconvert_exporter": "python",
   "pygments_lexer": "ipython3",
   "version": "3.7.5"
  }
 },
 "nbformat": 4,
 "nbformat_minor": 4
}
